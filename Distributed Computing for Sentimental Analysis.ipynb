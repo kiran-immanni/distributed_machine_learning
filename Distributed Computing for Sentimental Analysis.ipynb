{
  "nbformat": 4,
  "nbformat_minor": 0,
  "metadata": {
    "colab": {
      "provenance": []
    },
    "kernelspec": {
      "name": "python3",
      "display_name": "Python 3"
    },
    "language_info": {
      "name": "python"
    }
  },
  "cells": [
    {
      "cell_type": "code",
      "source": [
        "import nltk\n",
        "import pandas as pd\n",
        "from nltk.sentiment.vader import SentimentIntensityAnalyzer\n",
        "import time\n",
        "\n",
        "# Download the VADER lexicon if not already downloaded\n",
        "nltk.download('vader_lexicon')\n",
        "\n",
        "# Record the start time\n",
        "start_time = time.time()\n",
        "\n",
        "# Load your dataset with the appropriate encoding (e.g., UTF-8)\n",
        "data = pd.read_csv('tdataset.csv', encoding='utf-8')\n",
        "\n",
        "# Initialize VADER sentiment analyzer\n",
        "sid = SentimentIntensityAnalyzer()\n",
        "\n",
        "# Function to analyze sentiment using VADER with modified threshold for neutrality\n",
        "def analyze_sentiment(text):\n",
        "    # Handle float values by converting them to strings\n",
        "    text = str(text)\n",
        "    sentiment_score = sid.polarity_scores(text)\n",
        "\n",
        "    # Adjust the threshold for neutrality (closer to 0) for classifying as neutral\n",
        "    if -0.05 < sentiment_score['compound'] < 0.05:\n",
        "        return 'Neutral'\n",
        "    elif sentiment_score['compound'] >= 0.05:\n",
        "        return 'Positive'\n",
        "    else:\n",
        "        return 'Negative'\n",
        "\n",
        "# Apply sentiment analysis to the 6th column (0-based index) and create a new column 'sentiment'\n",
        "data['sentiment'] = data.iloc[:, 5].apply(analyze_sentiment)\n",
        "\n",
        "# Save the original data with sentiment analysis results to a different CSV file\n",
        "data.to_csv('sentiment_analysis_results_output.csv', index=False, encoding='utf-8')\n",
        "\n",
        "# Record the end time\n",
        "end_time = time.time()\n",
        "\n",
        "# Calculate and display the execution time\n",
        "execution_time = end_time - start_time\n",
        "print(f\"Execution Time: {execution_time} seconds\")"
      ],
      "metadata": {
        "colab": {
          "base_uri": "https://localhost:8080/"
        },
        "id": "LW_vyzXA-3pM",
        "outputId": "dae23bcb-724a-4b97-d06d-349da4cf0365"
      },
      "execution_count": null,
      "outputs": [
        {
          "output_type": "stream",
          "name": "stderr",
          "text": [
            "[nltk_data] Downloading package vader_lexicon to /root/nltk_data...\n",
            "[nltk_data]   Package vader_lexicon is already up-to-date!\n"
          ]
        },
        {
          "output_type": "stream",
          "name": "stdout",
          "text": [
            "Execution Time: 37.831063747406006 seconds\n"
          ]
        }
      ]
    },
    {
      "cell_type": "code",
      "source": [
        "from pyspark.sql import SparkSession\n",
        "from pyspark.sql.functions import udf\n",
        "from pyspark.sql.types import StringType\n",
        "from nltk.sentiment.vader import SentimentIntensityAnalyzer\n",
        "import time\n",
        "\n",
        "# Initialize a Spark session\n",
        "spark = SparkSession.builder.appName(\"SentimentAnalysis\").getOrCreate()\n",
        "sc = spark.sparkContext\n",
        "\n",
        "# Record the start time\n",
        "start_time = time.time()\n",
        "\n",
        "# Load your dataset into a distributed DataFrame\n",
        "data = spark.read.csv('tdataset.csv', header=True, inferSchema=True, encoding='ISO-8859-1')\n",
        "\n",
        "# Rename the 6th column (0-based index) to a simpler name, e.g., \"text\"\n",
        "data = data.withColumnRenamed(data.columns[5], \"text\")\n",
        "\n",
        "# Initialize VADER sentiment analyzer\n",
        "sid = SentimentIntensityAnalyzer()\n",
        "\n",
        "# Function to analyze sentiment using VADER with modified threshold for neutrality\n",
        "def analyze_sentiment(text):\n",
        "    text = str(text)\n",
        "    sentiment_score = sid.polarity_scores(text)\n",
        "\n",
        "    if -0.05 < sentiment_score['compound'] < 0.05:\n",
        "        return 'Neutral'\n",
        "    elif sentiment_score['compound'] >= 0.05:\n",
        "        return 'Positive'\n",
        "    else:\n",
        "        return 'Negative'\n",
        "\n",
        "# Create a user-defined function (UDF) to apply the sentiment analysis function\n",
        "analyze_sentiment_udf = udf(analyze_sentiment, StringType())\n",
        "\n",
        "# Apply sentiment analysis to the \"text\" column using the UDF\n",
        "data = data.withColumn(\"sentiment\", analyze_sentiment_udf(data[\"text\"]))\n",
        "\n",
        "# Save the \"text\" and \"sentiment\" columns to a CSV file\n",
        "data.select(\"text\", \"sentiment\").coalesce(1).write.csv('sentiment_analysis_results.csv', header=True, mode=\"overwrite\")\n",
        "\n",
        "# Record the end time\n",
        "end_time = time.time()\n",
        "\n",
        "# Calculate and display the execution time\n",
        "execution_time = end_time - start_time\n",
        "print(f\"Execution Time: {execution_time} seconds\")\n",
        "\n",
        "# Stop the Spark session\n",
        "spark.stop()"
      ],
      "metadata": {
        "id": "J9FR4z8fN0FC",
        "colab": {
          "base_uri": "https://localhost:8080/"
        },
        "outputId": "c22f3dd8-974d-468e-ffa0-0fd0e4a5d10f"
      },
      "execution_count": null,
      "outputs": [
        {
          "output_type": "stream",
          "name": "stdout",
          "text": [
            "Execution Time: 39.85838508605957 seconds\n"
          ]
        }
      ]
    },
    {
      "cell_type": "code",
      "source": [
        "import nltk\n",
        "import pandas as pd\n",
        "from nltk.sentiment.vader import SentimentIntensityAnalyzer\n",
        "import time\n",
        "\n",
        "# Download the VADER lexicon if not already downloaded\n",
        "nltk.download('vader_lexicon')\n",
        "\n",
        "# Record the start time\n",
        "start_time = time.time()\n",
        "\n",
        "# Load your dataset with the appropriate encoding (e.g., UTF-8)\n",
        "data = pd.read_csv('tdataset.csv', encoding='utf-8')\n",
        "\n",
        "# Initialize VADER sentiment analyzer\n",
        "sid = SentimentIntensityAnalyzer()\n",
        "\n",
        "# Create an empty list to store sentiment analysis results\n",
        "sentiment_results = []\n",
        "\n",
        "# Function to analyze sentiment using VADER with modified threshold for neutrality\n",
        "def analyze_sentiment(text):\n",
        "    # Handle float values by converting them to strings\n",
        "    text = str(text)\n",
        "    sentiment_score = sid.polarity_scores(text)\n",
        "\n",
        "    # Adjust the threshold for neutrality (closer to 0) for classifying as neutral\n",
        "    if -0.05 < sentiment_score['compound'] < 0.05:\n",
        "        return 'Neutral'\n",
        "    elif sentiment_score['compound'] >= 0.05:\n",
        "        return 'Positive'\n",
        "    else:\n",
        "        return 'Negative'\n",
        "\n",
        "# Iterate through the DataFrame and perform sentiment analysis for each row\n",
        "for index, row in data.iterrows():\n",
        "    sentiment_result = analyze_sentiment(row[5])  # Assuming the text is in the 6th column (0-based index)\n",
        "    sentiment_results.append(sentiment_result)\n",
        "\n",
        "# Add the sentiment analysis results as a new column in the DataFrame\n",
        "data['sentiment'] = sentiment_results\n",
        "\n",
        "# Save the original data with sentiment analysis results to a different CSV file\n",
        "data.to_csv('sentiment_analysis_results_output.csv', index=False, encoding='utf-8')\n",
        "\n",
        "# Record the end time\n",
        "end_time = time.time()\n",
        "\n",
        "# Calculate and display the execution time\n",
        "execution_time = end_time - start_time\n",
        "print(f\"Execution Time: {execution_time} seconds\")"
      ],
      "metadata": {
        "colab": {
          "base_uri": "https://localhost:8080/"
        },
        "id": "P1zw0XlbqLcq",
        "outputId": "e89b1ca1-f3d2-43f6-b670-3c07c374c64e"
      },
      "execution_count": null,
      "outputs": [
        {
          "output_type": "stream",
          "name": "stderr",
          "text": [
            "[nltk_data] Downloading package vader_lexicon to /root/nltk_data...\n",
            "[nltk_data]   Package vader_lexicon is already up-to-date!\n"
          ]
        },
        {
          "output_type": "stream",
          "name": "stdout",
          "text": [
            "Execution Time: 50.49564719200134 seconds\n"
          ]
        }
      ]
    },
    {
      "cell_type": "code",
      "source": [],
      "metadata": {
        "id": "E6R0gCZasV5Q"
      },
      "execution_count": null,
      "outputs": []
    }
  ]
}